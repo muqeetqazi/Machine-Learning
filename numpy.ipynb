{
 "cells": [
  {
   "cell_type": "code",
   "execution_count": 3,
   "id": "a430013a-ad3d-468b-b4e0-796a9de86389",
   "metadata": {},
   "outputs": [
    {
     "name": "stdout",
     "output_type": "stream",
     "text": [
      "[1. 1. 1. 1. 1. 1.]\n",
      "[0.30165501 0.82257145 0.48057975 0.63620325 0.17684511 0.11919865]\n"
     ]
    }
   ],
   "source": [
    "import numpy as np\n",
    "ones=np.ones(6);\n",
    "ran=np.random.random_sample(6);\n",
    "print(ones)\n",
    "print(ran)\n"
   ]
  },
  {
   "cell_type": "code",
   "execution_count": null,
   "id": "ad3c0807-8b55-47ce-b446-b990fc5417ae",
   "metadata": {},
   "outputs": [],
   "source": []
  }
 ],
 "metadata": {
  "kernelspec": {
   "display_name": "Python 3 (ipykernel)",
   "language": "python",
   "name": "python3"
  },
  "language_info": {
   "codemirror_mode": {
    "name": "ipython",
    "version": 3
   },
   "file_extension": ".py",
   "mimetype": "text/x-python",
   "name": "python",
   "nbconvert_exporter": "python",
   "pygments_lexer": "ipython3",
   "version": "3.12.3"
  }
 },
 "nbformat": 4,
 "nbformat_minor": 5
}
