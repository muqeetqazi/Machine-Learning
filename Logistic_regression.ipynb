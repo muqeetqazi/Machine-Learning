{
 "cells": [
  {
   "cell_type": "code",
   "execution_count": 13,
   "id": "ac8362e4-35c3-43c3-8d9b-ff9adf2f729f",
   "metadata": {},
   "outputs": [
    {
     "name": "stdout",
     "output_type": "stream",
     "text": [
      "Sigmoid function output: [0.5]\n",
      "Sigmoid function output: [0.5]\n",
      "Sigmoid function output: [0.5]\n",
      "Sigmoid function output: [0.5]\n",
      "Sigmoid function output: [0.5]\n",
      "Sigmoid function output: [0.5]\n"
     ]
    }
   ],
   "source": [
    "import numpy as np\n",
    "\n",
    "def sigmoid(z):\n",
    "    g = 1 / (1 + np.exp(-z))\n",
    "    return g\n",
    "\n",
    "x_train = np.array([0., 1, 2, 3, 4, 5])\n",
    "y_train = np.array([0, 0, 0, 1, 1, 1])\n",
    "\n",
    "w_in = np.zeros((1))\n",
    "b_in = 0\n",
    "\n",
    "for i in range(len(x_train)):\n",
    "    fw_b = np.dot(w_in, x_train[i]) + b_in\n",
    "    y = sigmoid(fw_b)\n",
    "    print(\"Sigmoid function output:\", y)\n",
    "\n",
    "    "
   ]
  },
  {
   "cell_type": "code",
   "execution_count": null,
   "id": "c8e15c25-3aca-4975-916e-ad2f90d7e64d",
   "metadata": {},
   "outputs": [],
   "source": []
  }
 ],
 "metadata": {
  "kernelspec": {
   "display_name": "Python 3 (ipykernel)",
   "language": "python",
   "name": "python3"
  },
  "language_info": {
   "codemirror_mode": {
    "name": "ipython",
    "version": 3
   },
   "file_extension": ".py",
   "mimetype": "text/x-python",
   "name": "python",
   "nbconvert_exporter": "python",
   "pygments_lexer": "ipython3",
   "version": "3.12.3"
  }
 },
 "nbformat": 4,
 "nbformat_minor": 5
}
