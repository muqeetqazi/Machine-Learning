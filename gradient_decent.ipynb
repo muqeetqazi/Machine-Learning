{
 "cells": [
  {
   "cell_type": "code",
   "execution_count": 7,
   "id": "370e605f-dca4-4e37-afb1-7b1a6f979395",
   "metadata": {},
   "outputs": [
    {
     "name": "stdout",
     "output_type": "stream",
     "text": [
      "Iteration 0: w = 24.8, b = 7.2 ,cost =44.5\n",
      "Iteration 1: w = -185.92000000000002, b = -50.88000000000001 ,cost =3155.2200000000003\n",
      "Iteration 2: w = 1597.0879999999997, b = 443.232 ,cost =226053.51120000007\n",
      "Iteration 3: w = -13496.243199999999, b = -3737.1647999999996 ,cost =16197209.950751998\n",
      "Iteration 4: w = 114264.69248000003, b = 31650.750720000004 ,cost =1160565510.7759218\n",
      "Iteration 5: w = -967201.6030720004, b = -267897.911808 ,cost =83157057597.71161\n",
      "Iteration 6: w = 8187152.292300805, b = 2267711.465011201 ,cost =5958385084649.724\n",
      "Iteration 7: w = -69302270.59597318, b = -19195616.008519694 ,cost =426931325405616.5\n",
      "Iteration 8: w = 586627213.8690382, b = 162486333.42863172 ,cost =3.059056338640691e+16\n",
      "Iteration 9: w = -4965659443.607215, b = -1375408039.3999655 ,cost =2.191880784125448e+18\n"
     ]
    }
   ],
   "source": [
    "    import numpy as np\n",
    "    \n",
    "    def gradient_descent(x, y):\n",
    "        w_curr = b_curr = 0\n",
    "        iteration = 10\n",
    "        learning_rate = 0.8\n",
    "        m = len(x)\n",
    "        \n",
    "        for i in range(iteration):\n",
    "            y_predicted = w_curr * x + b_curr\n",
    "            cost = (1 / (2 * m)) * sum([val**2 for val in (y_predicted - y)])\n",
    "            wd = (1 / m) * sum((y_predicted - y) * x)\n",
    "            bd = (1 / m) * sum((y_predicted - y))\n",
    "            w_curr = w_curr - learning_rate * wd\n",
    "            b_curr = b_curr - learning_rate * bd\n",
    "            print(\"Iteration {}: w = {}, b = {} ,cost ={}\".format(i, w_curr, b_curr,cost))\n",
    "    \n",
    "    # Define the input data\n",
    "    x = np.array([1, 2, 3, 4, 5])\n",
    "    y = np.array([5, 7, 9, 11, 13])\n",
    "    \n",
    "    # Run the gradient descent function\n",
    "    gradient_descent(x, y)\n"
   ]
  },
  {
   "cell_type": "code",
   "execution_count": null,
   "id": "8afe0bd7-beff-4c70-9659-40837471929a",
   "metadata": {},
   "outputs": [],
   "source": []
  }
 ],
 "metadata": {
  "kernelspec": {
   "display_name": "Python 3 (ipykernel)",
   "language": "python",
   "name": "python3"
  },
  "language_info": {
   "codemirror_mode": {
    "name": "ipython",
    "version": 3
   },
   "file_extension": ".py",
   "mimetype": "text/x-python",
   "name": "python",
   "nbconvert_exporter": "python",
   "pygments_lexer": "ipython3",
   "version": "3.12.3"
  }
 },
 "nbformat": 4,
 "nbformat_minor": 5
}
