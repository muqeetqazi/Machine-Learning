{
 "cells": [
  {
   "cell_type": "code",
   "execution_count": 6,
   "id": "370e605f-dca4-4e37-afb1-7b1a6f979395",
   "metadata": {},
   "outputs": [
    {
     "name": "stdout",
     "output_type": "stream",
     "text": [
      "Iteration 0: w = 31.0, b = 9.0 ,cost =44.5\n",
      "Iteration 1: w = -306.0, b = -84.0 ,cost =5165.5\n",
      "Iteration 2: w = 3343.0, b = 927.0 ,cost =605924.5\n",
      "Iteration 3: w = -36180.0, b = -10020.0 ,cost =71080685.5\n",
      "Iteration 4: w = 391891.0, b = 108549.0 ,cost =8338441004.5\n",
      "Iteration 5: w = -4244526.0, b = -1175664.0 ,cost =978178503005.5\n",
      "Iteration 6: w = 45972283.0, b = 12733587.0 ,cost =114749649633284.5\n",
      "Iteration 7: w = -497923560.0, b = -137916840.0 ,cost =1.3461226197984126e+16\n",
      "Iteration 8: w = 5392986151.0, b = 1493770689.0 ,cost =1.579129969741831e+18\n",
      "Iteration 9: w = -58411173546.0, b = -16178958444.0 ,cost =1.8524697710749932e+20\n"
     ]
    }
   ],
   "source": [
    "import numpy as np\n",
    "\n",
    "def gradient_descent(x, y):\n",
    "    w_curr = b_curr = 0\n",
    "    iteration = 10\n",
    "    learning_rate = 0.8\n",
    "    m = len(x)\n",
    "    \n",
    "    for i in range(iteration):\n",
    "        y_predicted = w_curr * x + b_curr\n",
    "        cost = (1 / (2 * m)) * sum([val**2 for val in (y_predicted - y)])\n",
    "        wd = (1 / m) * sum((y_predicted - y) * x)\n",
    "        bd = (1 / m) * sum((y_predicted - y))\n",
    "        w_curr = w_curr - learning_rate * wd\n",
    "        b_curr = b_curr - learning_rate * bd\n",
    "        print(\"Iteration {}: w = {}, b = {} ,cost ={}\".format(i, w_curr, b_curr,cost))\n",
    "\n",
    "# Define the input data\n",
    "x = np.array([1, 2, 3, 4, 5])\n",
    "y = np.array([5, 7, 9, 11, 13])\n",
    "\n",
    "# Run the gradient descent function\n",
    "gradient_descent(x, y)\n"
   ]
  },
  {
   "cell_type": "code",
   "execution_count": null,
   "id": "8afe0bd7-beff-4c70-9659-40837471929a",
   "metadata": {},
   "outputs": [],
   "source": []
  }
 ],
 "metadata": {
  "kernelspec": {
   "display_name": "Python 3 (ipykernel)",
   "language": "python",
   "name": "python3"
  },
  "language_info": {
   "codemirror_mode": {
    "name": "ipython",
    "version": 3
   },
   "file_extension": ".py",
   "mimetype": "text/x-python",
   "name": "python",
   "nbconvert_exporter": "python",
   "pygments_lexer": "ipython3",
   "version": "3.12.2"
  }
 },
 "nbformat": 4,
 "nbformat_minor": 5
}
